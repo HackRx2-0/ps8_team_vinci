{
  "nbformat": 4,
  "nbformat_minor": 0,
  "metadata": {
    "colab": {
      "name": "Hackrx_models.ipynb",
      "provenance": [],
      "collapsed_sections": []
    },
    "kernelspec": {
      "name": "python3",
      "display_name": "Python 3"
    },
    "language_info": {
      "name": "python"
    },
    "accelerator": "GPU"
  },
  "cells": [
    {
      "cell_type": "code",
      "metadata": {
        "id": "bEZWzhElVzOB"
      },
      "source": [
        "import tensorflow as tf\n",
        "import tensorflow.keras as keras \n",
        "import numpy as np"
      ],
      "execution_count": 1,
      "outputs": []
    },
    {
      "cell_type": "code",
      "metadata": {
        "id": "rkXZ86RNV3af",
        "colab": {
          "base_uri": "https://localhost:8080/"
        },
        "outputId": "8e7c7935-6bf8-4cc3-821e-1b117cce4246"
      },
      "source": [
        "vgg = tf.keras.applications.vgg16.VGG16(\n",
        "    include_top=False, weights='imagenet', input_tensor=None,\n",
        "    input_shape=(300, 300, 3), pooling=None, classes=1000,\n",
        "    classifier_activation='softmax'\n",
        ")"
      ],
      "execution_count": 2,
      "outputs": [
        {
          "output_type": "stream",
          "text": [
            "Downloading data from https://storage.googleapis.com/tensorflow/keras-applications/vgg16/vgg16_weights_tf_dim_ordering_tf_kernels_notop.h5\n",
            "58892288/58889256 [==============================] - 0s 0us/step\n"
          ],
          "name": "stdout"
        }
      ]
    },
    {
      "cell_type": "code",
      "metadata": {
        "id": "J_WFGC-hg4MU"
      },
      "source": [
        "from tensorflow.keras import preprocessing"
      ],
      "execution_count": 55,
      "outputs": []
    },
    {
      "cell_type": "code",
      "metadata": {
        "id": "Y-YIhP57dGlH"
      },
      "source": [
        "inp = keras.Input(shape=(300, 300, 3))\n",
        "x = keras.layers.experimental.preprocessing.Rescaling(1.0/255.0)(inp)\n",
        "vgg_out = keras.layers.Flatten()(vgg(x))\n",
        "#vgg_out = keras.layers.BatchNormalization()(vgg_out1)\n",
        "\n",
        "cartoon_hidden1 = keras.layers.Dense(64, activation=\"relu\", name=\"cartoon_hidden1\")(vgg_out)\n",
        "cartoon_hidden2 = keras.layers.Dense(20, activation=\"relu\", name=\"cartoon_hidden2\")(cartoon_hidden1)\n",
        "cartoon_hidden3 = keras.layers.Dense(10, activation=\"relu\", name=\"cartoon_hidden3\")(cartoon_hidden2)\n",
        "cartoon_output = keras.layers.Dense(1, activation=\"sigmoid\", name=\"cartoon_output\")(cartoon_hidden3)\n",
        "\n",
        "watermark_hidden1 = keras.layers.Dense(64, activation=\"relu\", name=\"watermark_hidden1\")(vgg_out)\n",
        "watermark_hidden2 = keras.layers.Dense(32, activation=\"relu\", name=\"watermark_hidden2\")(watermark_hidden1)\n",
        "watermark_hidden3 = keras.layers.Dense(20, activation=\"relu\", name=\"watermark_hidden3\")(watermark_hidden2)\n",
        "watermark_hidden4 = keras.layers.Dense(10, activation=\"relu\", name=\"watermark_hidden4\")(watermark_hidden3)\n",
        "watermark_output = keras.layers.Dense(1, activation=\"sigmoid\", name=\"watermark_output\")(watermark_hidden4)\n",
        "\n",
        "watermark_model = keras.Model(inputs=inp, outputs=watermark_output)"
      ],
      "execution_count": 328,
      "outputs": []
    },
    {
      "cell_type": "code",
      "metadata": {
        "colab": {
          "base_uri": "https://localhost:8080/"
        },
        "id": "x4WJC4hje0bK",
        "outputId": "bf6ad997-0efb-45cc-bd21-0ff7afd5b27a"
      },
      "source": [
        "watermark_model.summary()"
      ],
      "execution_count": 329,
      "outputs": [
        {
          "output_type": "stream",
          "text": [
            "Model: \"model_31\"\n",
            "_________________________________________________________________\n",
            "Layer (type)                 Output Shape              Param #   \n",
            "=================================================================\n",
            "input_34 (InputLayer)        [(None, 300, 300, 3)]     0         \n",
            "_________________________________________________________________\n",
            "rescaling_27 (Rescaling)     (None, 300, 300, 3)       0         \n",
            "_________________________________________________________________\n",
            "vgg16 (Functional)           (None, 9, 9, 512)         14714688  \n",
            "_________________________________________________________________\n",
            "flatten_31 (Flatten)         (None, 41472)             0         \n",
            "_________________________________________________________________\n",
            "watermark_hidden1 (Dense)    (None, 64)                2654272   \n",
            "_________________________________________________________________\n",
            "watermark_hidden2 (Dense)    (None, 32)                2080      \n",
            "_________________________________________________________________\n",
            "watermark_hidden3 (Dense)    (None, 20)                660       \n",
            "_________________________________________________________________\n",
            "watermark_hidden4 (Dense)    (None, 10)                210       \n",
            "_________________________________________________________________\n",
            "watermark_output (Dense)     (None, 1)                 11        \n",
            "=================================================================\n",
            "Total params: 17,371,921\n",
            "Trainable params: 2,657,233\n",
            "Non-trainable params: 14,714,688\n",
            "_________________________________________________________________\n"
          ],
          "name": "stdout"
        }
      ]
    },
    {
      "cell_type": "code",
      "metadata": {
        "colab": {
          "base_uri": "https://localhost:8080/",
          "height": 856
        },
        "id": "K0MWxPjde1jN",
        "outputId": "d6895993-6ebc-45be-fe59-6e76c3be6f1f"
      },
      "source": [
        "keras.utils.plot_model(watermark_model)"
      ],
      "execution_count": 331,
      "outputs": [
        {
          "output_type": "execute_result",
          "data": {
            "image/png": "[encoded data removed]",
            "text/plain": [
              "<IPython.core.display.Image object>"
            ]
          },
          "metadata": {
            "tags": []
          },
          "execution_count": 331
        }
      ]
    },
    {
      "cell_type": "code",
      "metadata": {
        "colab": {
          "base_uri": "https://localhost:8080/"
        },
        "id": "TSaHosOO9Ych",
        "outputId": "60a7cb00-022e-4638-bc04-59bcb90909e2"
      },
      "source": [
        "combined_model.output_shape\n",
        "#CARTOON, WATERMARK"
      ],
      "execution_count": 309,
      "outputs": [
        {
          "output_type": "execute_result",
          "data": {
            "text/plain": [
              "[(None, 1), (None, 1)]"
            ]
          },
          "metadata": {
            "tags": []
          },
          "execution_count": 309
        }
      ]
    },
    {
      "cell_type": "code",
      "metadata": {
        "id": "MfVin-BFfgXI"
      },
      "source": [
        "watermark_model.get_layer(\"vgg16\").trainable = False"
      ],
      "execution_count": 330,
      "outputs": []
    },
    {
      "cell_type": "code",
      "metadata": {
        "id": "KIJw8CBWm3Th",
        "colab": {
          "base_uri": "https://localhost:8080/"
        },
        "outputId": "c211f4d3-836c-4654-ad18-67a971f875ad"
      },
      "source": [
        "model.output_shape"
      ],
      "execution_count": 50,
      "outputs": [
        {
          "output_type": "execute_result",
          "data": {
            "text/plain": [
              "(None, 1)"
            ]
          },
          "metadata": {
            "tags": []
          },
          "execution_count": 50
        }
      ]
    },
    {
      "cell_type": "code",
      "metadata": {
        "id": "4fjlXX5PzCvZ"
      },
      "source": [
        ""
      ],
      "execution_count": 50,
      "outputs": []
    },
    {
      "cell_type": "code",
      "metadata": {
        "colab": {
          "base_uri": "https://localhost:8080/"
        },
        "id": "izAnnvSdzhew",
        "outputId": "67788d4e-1fdd-4983-a4cb-99502a3e5869"
      },
      "source": [
        "from google.colab import drive\n",
        "drive.mount('/gdrive')\n",
        "%cd /gdrive"
      ],
      "execution_count": 51,
      "outputs": [
        {
          "output_type": "stream",
          "text": [
            "Drive already mounted at /gdrive; to attempt to forcibly remount, call drive.mount(\"/gdrive\", force_remount=True).\n",
            "/gdrive\n"
          ],
          "name": "stdout"
        }
      ]
    },
    {
      "cell_type": "code",
      "metadata": {
        "id": "SiuV4a2W0Iwh"
      },
      "source": [
        ""
      ],
      "execution_count": 126,
      "outputs": []
    },
    {
      "cell_type": "code",
      "metadata": {
        "id": "yc9rsw8I2lMD",
        "colab": {
          "base_uri": "https://localhost:8080/"
        },
        "outputId": "0fe7f521-fe3f-4c9d-cba0-e907ed50a8db"
      },
      "source": [
        "data_dir = '/gdrive/MyDrive/faces'\n",
        "img_height = img_width = 300\n",
        "batch_size = 64\n",
        "\n",
        "train_ds = tf.keras.preprocessing.image_dataset_from_directory(\n",
        "  data_dir,\n",
        "  validation_split=0.2,\n",
        "  subset=\"training\",\n",
        "  seed=123,\n",
        "  image_size=(img_height, img_width),\n",
        "  batch_size=batch_size)\n",
        "\n",
        "val_ds = tf.keras.preprocessing.image_dataset_from_directory(\n",
        "  data_dir,\n",
        "  validation_split=0.2,\n",
        "  subset=\"validation\",\n",
        "  seed=123,\n",
        "  image_size=(img_height, img_width),\n",
        "  batch_size=batch_size)\n",
        "\n"
      ],
      "execution_count": 340,
      "outputs": [
        {
          "output_type": "stream",
          "text": [
            "Found 2081 files belonging to 2 classes.\n",
            "Using 1665 files for training.\n",
            "Found 2081 files belonging to 2 classes.\n",
            "Using 416 files for validation.\n"
          ],
          "name": "stdout"
        }
      ]
    },
    {
      "cell_type": "code",
      "metadata": {
        "colab": {
          "base_uri": "https://localhost:8080/"
        },
        "id": "7xCNNWMlk05t",
        "outputId": "0923a457-1416-48a0-f5fe-60ca98cca983"
      },
      "source": [
        "logical_gpus = tf.config.experimental.list_logical_devices('GPU')\n",
        "print(logical_gpus)"
      ],
      "execution_count": 276,
      "outputs": [
        {
          "output_type": "stream",
          "text": [
            "[LogicalDevice(name='/device:GPU:0', device_type='GPU')]\n"
          ],
          "name": "stdout"
        }
      ]
    },
    {
      "cell_type": "code",
      "metadata": {
        "id": "Mq-jQ0gnoFnM"
      },
      "source": [
        "opt = keras.optimizers.Adam(learning_rate=0.1)"
      ],
      "execution_count": 41,
      "outputs": []
    },
    {
      "cell_type": "code",
      "metadata": {
        "id": "f2hHT7jgfim2"
      },
      "source": [
        "watermark_model.compile(optimizer=keras.optimizers.Adam(), loss='binary_crossentropy',\n",
        "    metrics=[\"accuracy\"])\n"
      ],
      "execution_count": 333,
      "outputs": []
    },
    {
      "cell_type": "code",
      "metadata": {
        "colab": {
          "base_uri": "https://localhost:8080/"
        },
        "id": "1tvhhCoP5Zwr",
        "outputId": "0cc7dd1b-81fc-425e-8eb7-770e499478f6"
      },
      "source": [
        "with tf.device('/device:GPU:0'):\n",
        "    watermark_model.fit(train_ds, validation_data=val_ds, epochs=1)"
      ],
      "execution_count": 335,
      "outputs": [
        {
          "output_type": "stream",
          "text": [
            "83/83 [==============================] - 67s 800ms/step - loss: 0.3109 - accuracy: 0.8636 - val_loss: 0.5849 - val_accuracy: 0.7320\n"
          ],
          "name": "stdout"
        }
      ]
    },
    {
      "cell_type": "code",
      "metadata": {
        "colab": {
          "base_uri": "https://localhost:8080/"
        },
        "id": "EeXbBK-UZrcm",
        "outputId": "c13a2ca2-c118-464c-8505-ba083076854f"
      },
      "source": [
        "%cd /content\n",
        "combined_model.save(\"final_model\")"
      ],
      "execution_count": 344,
      "outputs": [
        {
          "output_type": "stream",
          "text": [
            "/content\n",
            "INFO:tensorflow:Assets written to: final_model/assets\n"
          ],
          "name": "stdout"
        },
        {
          "output_type": "stream",
          "text": [
            "INFO:tensorflow:Assets written to: final_model/assets\n"
          ],
          "name": "stderr"
        }
      ]
    },
    {
      "cell_type": "code",
      "metadata": {
        "colab": {
          "base_uri": "https://localhost:8080/"
        },
        "id": "QY8O32ZuniXR",
        "outputId": "22540a60-2857-44f5-edae-acda1985a018"
      },
      "source": [
        "%cd /content\n",
        "!zip -r final_model.zip /content/final_model"
      ],
      "execution_count": 347,
      "outputs": [
        {
          "output_type": "stream",
          "text": [
            "/content\n",
            "  adding: content/final_model/ (stored 0%)\n",
            "  adding: content/final_model/variables/ (stored 0%)\n",
            "  adding: content/final_model/variables/variables.data-00000-of-00001 (deflated 7%)\n",
            "  adding: content/final_model/variables/variables.index (deflated 68%)\n",
            "  adding: content/final_model/assets/ (stored 0%)\n",
            "  adding: content/final_model/keras_metadata.pb (deflated 96%)\n",
            "  adding: content/final_model/saved_model.pb (deflated 91%)\n"
          ],
          "name": "stdout"
        }
      ]
    },
    {
      "cell_type": "code",
      "metadata": {
        "id": "knUQWNrld2RM",
        "colab": {
          "base_uri": "https://localhost:8080/"
        },
        "outputId": "0f992e68-d481-4379-de33-b4ac4a8088d8"
      },
      "source": [
        "model.evaluate(val_ds)"
      ],
      "execution_count": 290,
      "outputs": [
        {
          "output_type": "stream",
          "text": [
            "21/21 [==============================] - 14s 593ms/step - loss: 0.9450 - accuracy: 0.7092\n"
          ],
          "name": "stdout"
        },
        {
          "output_type": "execute_result",
          "data": {
            "text/plain": [
              "[0.9449931979179382, 0.7091875672340393]"
            ]
          },
          "metadata": {
            "tags": []
          },
          "execution_count": 290
        }
      ]
    },
    {
      "cell_type": "code",
      "metadata": {
        "colab": {
          "base_uri": "https://localhost:8080/"
        },
        "id": "pKkUfNU7ic1i",
        "outputId": "9958cfb6-61c3-4cb6-f60c-a7085c3611a6"
      },
      "source": [
        "cartoon_model.summary()"
      ],
      "execution_count": 314,
      "outputs": [
        {
          "output_type": "stream",
          "text": [
            "Model: \"model_26\"\n",
            "_________________________________________________________________\n",
            "Layer (type)                 Output Shape              Param #   \n",
            "=================================================================\n",
            "input_29 (InputLayer)        [(None, 300, 300, 3)]     0         \n",
            "_________________________________________________________________\n",
            "rescaling_22 (Rescaling)     (None, 300, 300, 3)       0         \n",
            "_________________________________________________________________\n",
            "vgg16 (Functional)           (None, 9, 9, 512)         14714688  \n",
            "_________________________________________________________________\n",
            "flatten_26 (Flatten)         (None, 41472)             0         \n",
            "_________________________________________________________________\n",
            "cartoon_hidden1 (Dense)      (None, 64)                2654272   \n",
            "_________________________________________________________________\n",
            "cartoon_hidden2 (Dense)      (None, 20)                1300      \n",
            "_________________________________________________________________\n",
            "cartoon_hidden3 (Dense)      (None, 10)                210       \n",
            "_________________________________________________________________\n",
            "cartoon_output (Dense)       (None, 1)                 11        \n",
            "=================================================================\n",
            "Total params: 17,370,481\n",
            "Trainable params: 2,655,793\n",
            "Non-trainable params: 14,714,688\n",
            "_________________________________________________________________\n"
          ],
          "name": "stdout"
        }
      ]
    },
    {
      "cell_type": "code",
      "metadata": {
        "id": "L00TIyC6T6yg"
      },
      "source": [
        "def replace_weights(input_model, layers):\n",
        "    for layer in layers:\n",
        "        combined_model.get_layer(layer).set_weights([input_model.get_layer(layer).weights[0].numpy(), input_model.get_layer(layer).weights[1].numpy()])\n",
        "    \n",
        "\n",
        "replace_weights(watermark_model, [\"watermark_hidden1\", \"watermark_hidden2\", \"watermark_hidden3\", \"watermark_hidden4\", \"watermark_output\"])\n",
        "                \n",
        "# [\"cartoon_hidden1\", \"cartoon_hidden2\", \"cartoon_hidden3\", \"cartoon_output\"])\n",
        "                \n",
        "# [\"watermark_hidden1\", \"watermark_hidden2\", \"watermark_hidden3\", \"watermark_hidden4\", \"watermark_output\"])"
      ],
      "execution_count": 336,
      "outputs": []
    },
    {
      "cell_type": "code",
      "metadata": {
        "colab": {
          "base_uri": "https://localhost:8080/"
        },
        "id": "KEWRx3u8UTNb",
        "outputId": "6b86cd48-3dda-42c6-8feb-d6b5809f57f0"
      },
      "source": [
        "model_cartoon.get_layer(\"cartoon_hidden1\").weights[0].shape, model_cartoon.get_layer(\"cartoon_hidden1\").weights[1].shape"
      ],
      "execution_count": 203,
      "outputs": [
        {
          "output_type": "execute_result",
          "data": {
            "text/plain": [
              "(TensorShape([41472, 64]), TensorShape([64]))"
            ]
          },
          "metadata": {
            "tags": []
          },
          "execution_count": 203
        }
      ]
    },
    {
      "cell_type": "code",
      "metadata": {
        "colab": {
          "base_uri": "https://localhost:8080/"
        },
        "id": "lO01IEsgVJ28",
        "outputId": "d3c766ab-6047-43aa-f542-e10d8cd9e906"
      },
      "source": [
        "combined_model.get_layer(\"cartoon_hidden1\").weights[0].shape, combined_model.get_layer(\"cartoon_hidden1\").weights[1].shape"
      ],
      "execution_count": 205,
      "outputs": [
        {
          "output_type": "execute_result",
          "data": {
            "text/plain": [
              "(TensorShape([41472, 64]), TensorShape([64]))"
            ]
          },
          "metadata": {
            "tags": []
          },
          "execution_count": 205
        }
      ]
    },
    {
      "cell_type": "code",
      "metadata": {
        "id": "sBDH6tioXq4_"
      },
      "source": [
        "combined_model.compile(\"adam\", ['binary_crossentropy', None])"
      ],
      "execution_count": 342,
      "outputs": []
    },
    {
      "cell_type": "code",
      "metadata": {
        "colab": {
          "base_uri": "https://localhost:8080/"
        },
        "id": "sSHytbBuoRsa",
        "outputId": "a3f45485-e2ee-4f03-abb8-37e4cd6f45bc"
      },
      "source": [
        "val_ds.class_names"
      ],
      "execution_count": 348,
      "outputs": [
        {
          "output_type": "execute_result",
          "data": {
            "text/plain": [
              "['cartoon', 'real']"
            ]
          },
          "metadata": {
            "tags": []
          },
          "execution_count": 348
        }
      ]
    },
    {
      "cell_type": "code",
      "metadata": {
        "colab": {
          "base_uri": "https://localhost:8080/"
        },
        "id": "nbnSGaJyYqfr",
        "outputId": "d85fc693-1f7f-436e-8d74-2c63adcf9bda"
      },
      "source": [
        "cartoon_model.evaluate(val_ds)"
      ],
      "execution_count": 341,
      "outputs": [
        {
          "output_type": "stream",
          "text": [
            "7/7 [==============================] - 6s 470ms/step - loss: 0.4103 - accuracy: 0.9351\n"
          ],
          "name": "stdout"
        },
        {
          "output_type": "execute_result",
          "data": {
            "text/plain": [
              "[0.41031959652900696, 0.9350961446762085]"
            ]
          },
          "metadata": {
            "tags": []
          },
          "execution_count": 341
        }
      ]
    },
    {
      "cell_type": "code",
      "metadata": {
        "colab": {
          "base_uri": "https://localhost:8080/"
        },
        "id": "Rftb2q4Om0H9",
        "outputId": "b4530989-4536-4b14-a06c-3f9dd6aa7603"
      },
      "source": [
        "watermark_model.evaluate(val_ds)"
      ],
      "execution_count": 337,
      "outputs": [
        {
          "output_type": "stream",
          "text": [
            "21/21 [==============================] - 14s 601ms/step - loss: 0.5849 - accuracy: 0.7320\n"
          ],
          "name": "stdout"
        },
        {
          "output_type": "execute_result",
          "data": {
            "text/plain": [
              "[0.5849326848983765, 0.7319666147232056]"
            ]
          },
          "metadata": {
            "tags": []
          },
          "execution_count": 337
        }
      ]
    },
    {
      "cell_type": "code",
      "metadata": {
        "colab": {
          "base_uri": "https://localhost:8080/"
        },
        "id": "7m_IpS0lYzpJ",
        "outputId": "a4129ccf-4013-4def-af56-fe12eb452710"
      },
      "source": [
        "combined_model.evaluate(val_ds)"
      ],
      "execution_count": 343,
      "outputs": [
        {
          "output_type": "stream",
          "text": [
            "7/7 [==============================] - 6s 472ms/step - loss: 0.4103 - cartoon_output_loss: 0.4103\n"
          ],
          "name": "stdout"
        },
        {
          "output_type": "execute_result",
          "data": {
            "text/plain": [
              "[0.41031959652900696, 0.41031959652900696]"
            ]
          },
          "metadata": {
            "tags": []
          },
          "execution_count": 343
        }
      ]
    },
    {
      "cell_type": "code",
      "metadata": {
        "id": "nCA3NmIDY0eA"
      },
      "source": [
        "Y = []\n",
        "for x, y in val_ds:\n",
        "    Y.append(y)\n",
        "\n",
        "Y = np.concatenate(Y)"
      ],
      "execution_count": 242,
      "outputs": []
    },
    {
      "cell_type": "code",
      "metadata": {
        "colab": {
          "base_uri": "https://localhost:8080/"
        },
        "id": "8eAq0Gt4Y8Rb",
        "outputId": "c4e3431d-6ac6-48e6-90e1-355f2a03878c"
      },
      "source": [
        "Y.shape"
      ],
      "execution_count": 223,
      "outputs": [
        {
          "output_type": "execute_result",
          "data": {
            "text/plain": [
              "(416, 1)"
            ]
          },
          "metadata": {
            "tags": []
          },
          "execution_count": 223
        }
      ]
    },
    {
      "cell_type": "code",
      "metadata": {
        "colab": {
          "base_uri": "https://localhost:8080/"
        },
        "id": "z1AcaKHtZ_sQ",
        "outputId": "a170f1e6-a8ab-41b9-c5cd-20426f122524"
      },
      "source": [
        "accuracy_score(np.around(a), Y)"
      ],
      "execution_count": 243,
      "outputs": [
        {
          "output_type": "execute_result",
          "data": {
            "text/plain": [
              "0.5026575550493546"
            ]
          },
          "metadata": {
            "tags": []
          },
          "execution_count": 243
        }
      ]
    },
    {
      "cell_type": "code",
      "metadata": {
        "id": "t4Od1yqlaVPp"
      },
      "source": [
        "from sklearn.metrics import accuracy_score"
      ],
      "execution_count": 233,
      "outputs": []
    },
    {
      "cell_type": "code",
      "metadata": {
        "colab": {
          "base_uri": "https://localhost:8080/"
        },
        "id": "kAJZ_SKJgpJI",
        "outputId": "f832cae9-c333-4b5d-e3fb-a33fd63ccd4c"
      },
      "source": [
        "train_ds.class_names"
      ],
      "execution_count": 304,
      "outputs": [
        {
          "output_type": "execute_result",
          "data": {
            "text/plain": [
              "['cartoon', 'real']"
            ]
          },
          "metadata": {
            "tags": []
          },
          "execution_count": 304
        }
      ]
    },
    {
      "cell_type": "code",
      "metadata": {
        "id": "W_Gap8Jlgo_c"
      },
      "source": [
        "watermark_classes = train_ds.class_names"
      ],
      "execution_count": 295,
      "outputs": []
    },
    {
      "cell_type": "code",
      "metadata": {
        "id": "xpPE2cmhqdU6"
      },
      "source": [
        "import cv2"
      ],
      "execution_count": 351,
      "outputs": []
    },
    {
      "cell_type": "code",
      "metadata": {
        "id": "L6rPy56savfN"
      },
      "source": [
        "def get_results(img_path):\n",
        "    cartoon_model_classes = ['cartoon/edited', 'real']\n",
        "    watermark_model_classes = ['no watermark', 'watermarked']\n",
        "    model = keras.models.load_model(\"final_model\")\n",
        "    img = cv2.imread(img_path)\n",
        "    img = cv2.resize(img, (300, 300))\n",
        "    img = cv2.cvtColor(img, cv2.COLOR_BGR2RGB)\n",
        "\n",
        "    img = img.reshape((-1, 300, 300, 3))\n",
        "    real, watermark = model.predict(img)\n",
        "    return (cartoon_model_classes[int(np.around(real)[0])], watermark_model_classes[int(np.around(watermark)[0])])    \n"
      ],
      "execution_count": 365,
      "outputs": []
    },
    {
      "cell_type": "code",
      "metadata": {
        "colab": {
          "base_uri": "https://localhost:8080/"
        },
        "id": "Rqb8h6TNpx97",
        "outputId": "3f3d6013-f34d-4335-9cb0-0eecfb913537"
      },
      "source": [
        "get_results(\"/gdrive/MyDrive/faces/real/images.jpg\")"
      ],
      "execution_count": 369,
      "outputs": [
        {
          "output_type": "execute_result",
          "data": {
            "text/plain": [
              "('real', 'watermarked')"
            ]
          },
          "metadata": {
            "tags": []
          },
          "execution_count": 369
        }
      ]
    },
    {
      "cell_type": "code",
      "metadata": {
        "colab": {
          "base_uri": "https://localhost:8080/"
        },
        "id": "o-nh1q1dqauk",
        "outputId": "5166bc69-0f3f-4e34-a632-1609c2376843"
      },
      "source": [
        "cv2.imread(\"/gdrive/MyDrive/watermark/watermark/wood-nature-forest-path.jpg\").shape"
      ],
      "execution_count": 355,
      "outputs": [
        {
          "output_type": "execute_result",
          "data": {
            "text/plain": [
              "(350, 525, 3)"
            ]
          },
          "metadata": {
            "tags": []
          },
          "execution_count": 355
        }
      ]
    },
    {
      "cell_type": "code",
      "metadata": {
        "id": "0_HPKW9EqmQL"
      },
      "source": [
        ""
      ],
      "execution_count": null,
      "outputs": []
    }
  ]
}